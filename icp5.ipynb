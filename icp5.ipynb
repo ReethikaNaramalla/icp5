{
  "nbformat": 4,
  "nbformat_minor": 0,
  "metadata": {
    "colab": {
      "provenance": [],
      "gpuType": "T4",
      "authorship_tag": "ABX9TyMXhf3XdQ4d/JJ+RPJxixOf",
      "include_colab_link": true
    },
    "kernelspec": {
      "name": "python3",
      "display_name": "Python 3"
    },
    "language_info": {
      "name": "python"
    },
    "accelerator": "GPU"
  },
  "cells": [
    {
      "cell_type": "markdown",
      "metadata": {
        "id": "view-in-github",
        "colab_type": "text"
      },
      "source": [
        "<a href=\"https://colab.research.google.com/github/ReethikaNaramalla/icp5/blob/main/icp5.ipynb\" target=\"_parent\"><img src=\"https://colab.research.google.com/assets/colab-badge.svg\" alt=\"Open In Colab\"/></a>"
      ]
    },
    {
      "cell_type": "code",
      "source": [
        "data = pd.read_csv('/content/Sentiment.csv')\n",
        "path_to_csv = '/content/Sentiment.csv'"
      ],
      "metadata": {
        "id": "-8kkfBCVFtoO"
      },
      "execution_count": null,
      "outputs": []
    },
    {
      "cell_type": "code",
      "execution_count": null,
      "metadata": {
        "colab": {
          "base_uri": "https://localhost:8080/"
        },
        "id": "AQ7m_txREJ3M",
        "outputId": "31d2decf-31e0-4180-a040-45d991536662"
      },
      "outputs": [
        {
          "output_type": "stream",
          "name": "stdout",
          "text": [
            "291/291 - 67s - loss: 0.8270 - accuracy: 0.6433 - 67s/epoch - 229ms/step\n",
            "144/144 - 2s - loss: 0.7525 - accuracy: 0.6647 - 2s/epoch - 12ms/step\n",
            "0.752544641494751\n",
            "0.6647007465362549\n",
            "['loss', 'accuracy']\n"
          ]
        }
      ],
      "source": [
        "import pandas as pd # data processing, CSV file I/O (e.g. pd.read_csv)\n",
        "from keras.preprocessing.text import Tokenizer\n",
        "from tensorflow.keras.preprocessing.sequence import pad_sequences\n",
        "from keras.models import Sequential\n",
        "from keras.layers import Dense, Embedding, LSTM, SpatialDropout1D\n",
        "from matplotlib import pyplot\n",
        "from sklearn.model_selection import train_test_split\n",
        "from keras.utils.np_utils import to_categorical\n",
        "import re\n",
        "\n",
        "from sklearn.preprocessing import LabelEncoder\n",
        "\n",
        "data = pd.read_csv('Sentiment.csv')\n",
        "# Keeping only the neccessary columns\n",
        "data = data[['text','sentiment']]\n",
        "\n",
        "data['text'] = data['text'].apply(lambda x: x.lower())\n",
        "data['text'] = data['text'].apply((lambda x: re.sub('[^a-zA-z0-9\\s]', '', x)))\n",
        "\n",
        "for idx, row in data.iterrows():\n",
        "    row[0] = row[0].replace('rt', ' ')\n",
        "\n",
        "max_fatures = 2000\n",
        "tokenizer = Tokenizer(num_words=max_fatures, split=' ')\n",
        "tokenizer.fit_on_texts(data['text'].values)\n",
        "X = tokenizer.texts_to_sequences(data['text'].values)\n",
        "\n",
        "X = pad_sequences(X)\n",
        "\n",
        "embed_dim = 128\n",
        "lstm_out = 196\n",
        "def createmodel():\n",
        "    model = Sequential()\n",
        "    model.add(Embedding(max_fatures, embed_dim,input_length = X.shape[1]))\n",
        "    model.add(LSTM(lstm_out, dropout=0.2, recurrent_dropout=0.2))\n",
        "    model.add(Dense(3,activation='softmax'))\n",
        "    model.compile(loss = 'categorical_crossentropy', optimizer='adam',metrics = ['accuracy'])\n",
        "    return model\n",
        "# print(model.summary())\n",
        "\n",
        "labelencoder = LabelEncoder()\n",
        "integer_encoded = labelencoder.fit_transform(data['sentiment'])\n",
        "y = to_categorical(integer_encoded)\n",
        "X_train, X_test, Y_train, Y_test = train_test_split(X,y, test_size = 0.33, random_state = 42)\n",
        "\n",
        "batch_size = 32\n",
        "model = createmodel()\n",
        "model.fit(X_train, Y_train, epochs = 1, batch_size=batch_size, verbose = 2)\n",
        "score,acc = model.evaluate(X_test,Y_test,verbose=2,batch_size=batch_size)\n",
        "print(score)\n",
        "print(acc)\n",
        "print(model.metrics_names)"
      ]
    },
    {
      "cell_type": "code",
      "source": [
        "model.save('sentiment_model.h5')"
      ],
      "metadata": {
        "id": "sA88a6ILEO-S"
      },
      "execution_count": null,
      "outputs": []
    },
    {
      "cell_type": "code",
      "source": [
        "from keras.models import load_model\n",
        "import numpy as np\n",
        "\n",
        "loaded_model = load_model('sentiment_model.h5')\n",
        "\n",
        "new_text = [\"A lot of good things are happening. We are respected again throughout the world, and that's a great thing.@realDonaldTrump\"]\n",
        "new_text = tokenizer.texts_to_sequences(new_text)\n",
        "new_text = pad_sequences(new_text, maxlen=X.shape[1], dtype='int32', value=0)\n",
        "sentiment_prob = loaded_model.predict(new_text, batch_size=1, verbose=2)[0]\n",
        "\n",
        "sentiment_classes = ['Negative', 'Neutral', 'Positive']\n",
        "sentiment_pred = sentiment_classes[np.argmax(sentiment_prob)]\n",
        "\n",
        "print(\"Predicted sentiment: \", sentiment_pred)\n",
        "print(\"Predicted probabilities: \", sentiment_prob)"
      ],
      "metadata": {
        "colab": {
          "base_uri": "https://localhost:8080/"
        },
        "id": "Y1iJLREdEQso",
        "outputId": "60eae2a3-fe64-4162-8c04-a1f0b08d89cc"
      },
      "execution_count": null,
      "outputs": [
        {
          "output_type": "stream",
          "name": "stderr",
          "text": [
            "WARNING:tensorflow:Layer lstm will not use cuDNN kernels since it doesn't meet the criteria. It will use a generic GPU kernel as fallback when running on GPU.\n"
          ]
        },
        {
          "output_type": "stream",
          "name": "stdout",
          "text": [
            "1/1 - 0s - 267ms/epoch - 267ms/step\n",
            "Predicted sentiment:  Positive\n",
            "Predicted probabilities:  [0.3960901  0.13720441 0.4667054 ]\n"
          ]
        }
      ]
    },
    {
      "cell_type": "code",
      "source": [
        "from keras.wrappers.scikit_learn import KerasClassifier\n",
        "from sklearn.model_selection import GridSearchCV\n",
        "from keras.optimizers import Adam\n",
        "\n",
        "def create_model(units=196, dropout=0.2, learning_rate=0.001):\n",
        "    model = Sequential()\n",
        "    model.add(Embedding(max_fatures, embed_dim,input_length = X.shape[1]))\n",
        "    model.add(LSTM(units, dropout=dropout, recurrent_dropout=dropout))\n",
        "    model.add(Dense(3, activation='softmax'))\n",
        "    optimizer = Adam(lr=learning_rate)\n",
        "    model.compile(loss='categorical_crossentropy', optimizer=optimizer, metrics=['accuracy'])\n",
        "    return model\n",
        "\n",
        "model = KerasClassifier(build_fn=create_model, verbose=2)\n",
        "\n",
        "units = [64, 128, 196]\n",
        "dropout = [0.1, 0.2, 0.3]\n",
        "learning_rate = [0.001, 0.01, 0.1]\n",
        "epochs = [1]\n",
        "batch_size = [32]\n",
        "\n",
        "param_grid = dict(units=units, dropout=dropout, learning_rate=learning_rate, epochs=epochs, batch_size=batch_size)\n",
        "grid = GridSearchCV(estimator=model, param_grid=param_grid, cv=3, verbose=2)\n",
        "grid_result = grid.fit(X_train, Y_train)\n",
        "\n",
        "print(\"Best: %f using %s\" % (grid_result.best_score_, grid_result.best_params_))"
      ],
      "metadata": {
        "colab": {
          "base_uri": "https://localhost:8080/"
        },
        "id": "T-xMLa31EQ2w",
        "outputId": "3b0fc83f-529b-49fa-e0a4-47b60e986e84"
      },
      "execution_count": null,
      "outputs": [
        {
          "output_type": "stream",
          "name": "stdout",
          "text": [
            "194/194 - 28s - loss: 0.8531 - accuracy: 0.6318 - 28s/epoch - 142ms/step\n",
            "97/97 - 2s - loss: 0.8095 - accuracy: 0.6488 - 2s/epoch - 18ms/step\n"
          ]
        },
        {
          "output_type": "stream",
          "name": "stderr",
          "text": [
            "WARNING:tensorflow:Layer lstm_3 will not use cuDNN kernels since it doesn't meet the criteria. It will use a generic GPU kernel as fallback when running on GPU.\n"
          ]
        },
        {
          "output_type": "stream",
          "name": "stdout",
          "text": [
            "[CV] END batch_size=32, dropout=0.1, epochs=1, learning_rate=0.001, units=64; total time=  45.3s\n",
            "194/194 - 28s - loss: 0.8527 - accuracy: 0.6333 - 28s/epoch - 143ms/step\n",
            "97/97 - 2s - loss: 0.7851 - accuracy: 0.6697 - 2s/epoch - 17ms/step\n"
          ]
        },
        {
          "output_type": "stream",
          "name": "stderr",
          "text": [
            "WARNING:tensorflow:Layer lstm_4 will not use cuDNN kernels since it doesn't meet the criteria. It will use a generic GPU kernel as fallback when running on GPU.\n"
          ]
        },
        {
          "output_type": "stream",
          "name": "stdout",
          "text": [
            "[CV] END batch_size=32, dropout=0.1, epochs=1, learning_rate=0.001, units=64; total time=  29.9s\n",
            "194/194 - 28s - loss: 0.8492 - accuracy: 0.6371 - 28s/epoch - 146ms/step\n",
            "97/97 - 2s - loss: 0.7673 - accuracy: 0.6720 - 2s/epoch - 16ms/step\n"
          ]
        },
        {
          "output_type": "stream",
          "name": "stderr",
          "text": [
            "WARNING:tensorflow:Layer lstm_5 will not use cuDNN kernels since it doesn't meet the criteria. It will use a generic GPU kernel as fallback when running on GPU.\n"
          ]
        },
        {
          "output_type": "stream",
          "name": "stdout",
          "text": [
            "[CV] END batch_size=32, dropout=0.1, epochs=1, learning_rate=0.001, units=128; total time=  30.0s\n",
            "194/194 - 28s - loss: 0.8489 - accuracy: 0.6324 - 28s/epoch - 146ms/step\n",
            "97/97 - 1s - loss: 0.7816 - accuracy: 0.6711 - 1s/epoch - 13ms/step\n"
          ]
        },
        {
          "output_type": "stream",
          "name": "stderr",
          "text": [
            "WARNING:tensorflow:Layer lstm_6 will not use cuDNN kernels since it doesn't meet the criteria. It will use a generic GPU kernel as fallback when running on GPU.\n"
          ]
        },
        {
          "output_type": "stream",
          "name": "stdout",
          "text": [
            "[CV] END batch_size=32, dropout=0.1, epochs=1, learning_rate=0.001, units=128; total time=  45.5s\n",
            "194/194 - 29s - loss: 0.8463 - accuracy: 0.6319 - 29s/epoch - 150ms/step\n",
            "97/97 - 1s - loss: 0.7677 - accuracy: 0.6587 - 1s/epoch - 13ms/step\n"
          ]
        },
        {
          "output_type": "stream",
          "name": "stderr",
          "text": [
            "WARNING:tensorflow:Layer lstm_7 will not use cuDNN kernels since it doesn't meet the criteria. It will use a generic GPU kernel as fallback when running on GPU.\n"
          ]
        },
        {
          "output_type": "stream",
          "name": "stdout",
          "text": [
            "[CV] END batch_size=32, dropout=0.1, epochs=1, learning_rate=0.001, units=128; total time=  30.9s\n",
            "194/194 - 28s - loss: 0.8588 - accuracy: 0.6370 - 28s/epoch - 146ms/step\n",
            "97/97 - 1s - loss: 0.7792 - accuracy: 0.6533 - 1s/epoch - 13ms/step\n"
          ]
        },
        {
          "output_type": "stream",
          "name": "stderr",
          "text": [
            "WARNING:tensorflow:Layer lstm_8 will not use cuDNN kernels since it doesn't meet the criteria. It will use a generic GPU kernel as fallback when running on GPU.\n"
          ]
        },
        {
          "output_type": "stream",
          "name": "stdout",
          "text": [
            "[CV] END batch_size=32, dropout=0.1, epochs=1, learning_rate=0.001, units=196; total time=  30.3s\n",
            "194/194 - 29s - loss: 0.8458 - accuracy: 0.6365 - 29s/epoch - 152ms/step\n",
            "97/97 - 1s - loss: 0.7907 - accuracy: 0.6746 - 1s/epoch - 13ms/step\n"
          ]
        },
        {
          "output_type": "stream",
          "name": "stderr",
          "text": [
            "WARNING:tensorflow:Layer lstm_9 will not use cuDNN kernels since it doesn't meet the criteria. It will use a generic GPU kernel as fallback when running on GPU.\n"
          ]
        },
        {
          "output_type": "stream",
          "name": "stdout",
          "text": [
            "[CV] END batch_size=32, dropout=0.1, epochs=1, learning_rate=0.001, units=196; total time=  45.2s\n",
            "194/194 - 28s - loss: 0.8496 - accuracy: 0.6315 - 28s/epoch - 144ms/step\n",
            "97/97 - 1s - loss: 0.8246 - accuracy: 0.6451 - 1s/epoch - 13ms/step\n"
          ]
        },
        {
          "output_type": "stream",
          "name": "stderr",
          "text": [
            "WARNING:tensorflow:Layer lstm_10 will not use cuDNN kernels since it doesn't meet the criteria. It will use a generic GPU kernel as fallback when running on GPU.\n"
          ]
        },
        {
          "output_type": "stream",
          "name": "stdout",
          "text": [
            "[CV] END batch_size=32, dropout=0.1, epochs=1, learning_rate=0.001, units=196; total time=  44.8s\n",
            "194/194 - 28s - loss: 0.8345 - accuracy: 0.6436 - 28s/epoch - 142ms/step\n",
            "97/97 - 1s - loss: 0.7658 - accuracy: 0.6743 - 1s/epoch - 13ms/step\n"
          ]
        },
        {
          "output_type": "stream",
          "name": "stderr",
          "text": [
            "WARNING:tensorflow:Layer lstm_11 will not use cuDNN kernels since it doesn't meet the criteria. It will use a generic GPU kernel as fallback when running on GPU.\n"
          ]
        },
        {
          "output_type": "stream",
          "name": "stdout",
          "text": [
            "[CV] END batch_size=32, dropout=0.1, epochs=1, learning_rate=0.01, units=64; total time=  29.4s\n",
            "194/194 - 28s - loss: 0.8489 - accuracy: 0.6423 - 28s/epoch - 146ms/step\n",
            "97/97 - 1s - loss: 0.7802 - accuracy: 0.6672 - 1s/epoch - 13ms/step\n"
          ]
        },
        {
          "output_type": "stream",
          "name": "stderr",
          "text": [
            "WARNING:tensorflow:Layer lstm_12 will not use cuDNN kernels since it doesn't meet the criteria. It will use a generic GPU kernel as fallback when running on GPU.\n"
          ]
        },
        {
          "output_type": "stream",
          "name": "stdout",
          "text": [
            "[CV] END batch_size=32, dropout=0.1, epochs=1, learning_rate=0.01, units=64; total time=  45.6s\n",
            "194/194 - 28s - loss: 0.8259 - accuracy: 0.6435 - 28s/epoch - 147ms/step\n",
            "97/97 - 1s - loss: 0.7838 - accuracy: 0.6616 - 1s/epoch - 13ms/step\n"
          ]
        },
        {
          "output_type": "stream",
          "name": "stderr",
          "text": [
            "WARNING:tensorflow:Layer lstm_13 will not use cuDNN kernels since it doesn't meet the criteria. It will use a generic GPU kernel as fallback when running on GPU.\n"
          ]
        },
        {
          "output_type": "stream",
          "name": "stdout",
          "text": [
            "[CV] END batch_size=32, dropout=0.1, epochs=1, learning_rate=0.01, units=64; total time=  44.7s\n",
            "194/194 - 28s - loss: 0.8544 - accuracy: 0.6286 - 28s/epoch - 143ms/step\n",
            "97/97 - 1s - loss: 0.7776 - accuracy: 0.6591 - 1s/epoch - 15ms/step\n"
          ]
        },
        {
          "output_type": "stream",
          "name": "stderr",
          "text": [
            "WARNING:tensorflow:Layer lstm_14 will not use cuDNN kernels since it doesn't meet the criteria. It will use a generic GPU kernel as fallback when running on GPU.\n"
          ]
        },
        {
          "output_type": "stream",
          "name": "stdout",
          "text": [
            "[CV] END batch_size=32, dropout=0.1, epochs=1, learning_rate=0.01, units=128; total time=  45.1s\n",
            "194/194 - 29s - loss: 0.8371 - accuracy: 0.6405 - 29s/epoch - 149ms/step\n",
            "97/97 - 1s - loss: 0.7967 - accuracy: 0.6617 - 1s/epoch - 13ms/step\n"
          ]
        },
        {
          "output_type": "stream",
          "name": "stderr",
          "text": [
            "WARNING:tensorflow:Layer lstm_15 will not use cuDNN kernels since it doesn't meet the criteria. It will use a generic GPU kernel as fallback when running on GPU.\n"
          ]
        },
        {
          "output_type": "stream",
          "name": "stdout",
          "text": [
            "[CV] END batch_size=32, dropout=0.1, epochs=1, learning_rate=0.01, units=128; total time=  30.8s\n",
            "194/194 - 30s - loss: 0.8407 - accuracy: 0.6356 - 30s/epoch - 154ms/step\n",
            "97/97 - 2s - loss: 0.8245 - accuracy: 0.6545 - 2s/epoch - 19ms/step\n"
          ]
        },
        {
          "output_type": "stream",
          "name": "stderr",
          "text": [
            "WARNING:tensorflow:Layer lstm_16 will not use cuDNN kernels since it doesn't meet the criteria. It will use a generic GPU kernel as fallback when running on GPU.\n"
          ]
        },
        {
          "output_type": "stream",
          "name": "stdout",
          "text": [
            "[CV] END batch_size=32, dropout=0.1, epochs=1, learning_rate=0.01, units=128; total time=  32.1s\n",
            "194/194 - 28s - loss: 0.8888 - accuracy: 0.6236 - 28s/epoch - 143ms/step\n",
            "97/97 - 1s - loss: 0.8161 - accuracy: 0.6498 - 1s/epoch - 13ms/step\n"
          ]
        },
        {
          "output_type": "stream",
          "name": "stderr",
          "text": [
            "WARNING:tensorflow:Layer lstm_17 will not use cuDNN kernels since it doesn't meet the criteria. It will use a generic GPU kernel as fallback when running on GPU.\n"
          ]
        },
        {
          "output_type": "stream",
          "name": "stdout",
          "text": [
            "[CV] END batch_size=32, dropout=0.1, epochs=1, learning_rate=0.01, units=196; total time=  29.7s\n",
            "194/194 - 28s - loss: 0.8507 - accuracy: 0.6300 - 28s/epoch - 146ms/step\n",
            "97/97 - 1s - loss: 0.8832 - accuracy: 0.5878 - 1s/epoch - 13ms/step\n"
          ]
        },
        {
          "output_type": "stream",
          "name": "stderr",
          "text": [
            "WARNING:tensorflow:Layer lstm_18 will not use cuDNN kernels since it doesn't meet the criteria. It will use a generic GPU kernel as fallback when running on GPU.\n"
          ]
        },
        {
          "output_type": "stream",
          "name": "stdout",
          "text": [
            "[CV] END batch_size=32, dropout=0.1, epochs=1, learning_rate=0.01, units=196; total time=  30.2s\n",
            "194/194 - 28s - loss: 0.8782 - accuracy: 0.6257 - 28s/epoch - 146ms/step\n",
            "97/97 - 1s - loss: 0.7880 - accuracy: 0.6590 - 1s/epoch - 13ms/step\n"
          ]
        },
        {
          "output_type": "stream",
          "name": "stderr",
          "text": [
            "WARNING:tensorflow:Layer lstm_19 will not use cuDNN kernels since it doesn't meet the criteria. It will use a generic GPU kernel as fallback when running on GPU.\n"
          ]
        },
        {
          "output_type": "stream",
          "name": "stdout",
          "text": [
            "[CV] END batch_size=32, dropout=0.1, epochs=1, learning_rate=0.01, units=196; total time=  45.7s\n",
            "194/194 - 28s - loss: 1.0437 - accuracy: 0.5792 - 28s/epoch - 146ms/step\n",
            "97/97 - 1s - loss: 1.0479 - accuracy: 0.5594 - 1s/epoch - 13ms/step\n"
          ]
        },
        {
          "output_type": "stream",
          "name": "stderr",
          "text": [
            "WARNING:tensorflow:Layer lstm_20 will not use cuDNN kernels since it doesn't meet the criteria. It will use a generic GPU kernel as fallback when running on GPU.\n"
          ]
        },
        {
          "output_type": "stream",
          "name": "stdout",
          "text": [
            "[CV] END batch_size=32, dropout=0.1, epochs=1, learning_rate=0.1, units=64; total time=  45.3s\n",
            "194/194 - 28s - loss: 1.0473 - accuracy: 0.5782 - 28s/epoch - 143ms/step\n",
            "97/97 - 1s - loss: 1.0856 - accuracy: 0.5194 - 1s/epoch - 13ms/step\n"
          ]
        },
        {
          "output_type": "stream",
          "name": "stderr",
          "text": [
            "WARNING:tensorflow:Layer lstm_21 will not use cuDNN kernels since it doesn't meet the criteria. It will use a generic GPU kernel as fallback when running on GPU.\n"
          ]
        },
        {
          "output_type": "stream",
          "name": "stdout",
          "text": [
            "[CV] END batch_size=32, dropout=0.1, epochs=1, learning_rate=0.1, units=64; total time=  29.5s\n",
            "194/194 - 29s - loss: 1.0491 - accuracy: 0.5646 - 29s/epoch - 151ms/step\n",
            "97/97 - 1s - loss: 1.0301 - accuracy: 0.5864 - 1s/epoch - 13ms/step\n"
          ]
        },
        {
          "output_type": "stream",
          "name": "stderr",
          "text": [
            "WARNING:tensorflow:Layer lstm_22 will not use cuDNN kernels since it doesn't meet the criteria. It will use a generic GPU kernel as fallback when running on GPU.\n"
          ]
        },
        {
          "output_type": "stream",
          "name": "stdout",
          "text": [
            "[CV] END batch_size=32, dropout=0.1, epochs=1, learning_rate=0.1, units=64; total time=  46.0s\n",
            "194/194 - 29s - loss: 1.2493 - accuracy: 0.5283 - 29s/epoch - 149ms/step\n",
            "97/97 - 1s - loss: 1.1756 - accuracy: 0.5584 - 1s/epoch - 13ms/step\n"
          ]
        },
        {
          "output_type": "stream",
          "name": "stderr",
          "text": [
            "WARNING:tensorflow:Layer lstm_23 will not use cuDNN kernels since it doesn't meet the criteria. It will use a generic GPU kernel as fallback when running on GPU.\n"
          ]
        },
        {
          "output_type": "stream",
          "name": "stdout",
          "text": [
            "[CV] END batch_size=32, dropout=0.1, epochs=1, learning_rate=0.1, units=128; total time=  45.3s\n",
            "194/194 - 28s - loss: 1.1802 - accuracy: 0.5387 - 28s/epoch - 143ms/step\n",
            "97/97 - 1s - loss: 1.0747 - accuracy: 0.5943 - 1s/epoch - 13ms/step\n"
          ]
        },
        {
          "output_type": "stream",
          "name": "stderr",
          "text": [
            "WARNING:tensorflow:Layer lstm_24 will not use cuDNN kernels since it doesn't meet the criteria. It will use a generic GPU kernel as fallback when running on GPU.\n"
          ]
        },
        {
          "output_type": "stream",
          "name": "stdout",
          "text": [
            "[CV] END batch_size=32, dropout=0.1, epochs=1, learning_rate=0.1, units=128; total time=  29.5s\n",
            "194/194 - 29s - loss: 1.3192 - accuracy: 0.5444 - 29s/epoch - 148ms/step\n",
            "97/97 - 1s - loss: 1.1976 - accuracy: 0.4717 - 1s/epoch - 13ms/step\n"
          ]
        },
        {
          "output_type": "stream",
          "name": "stderr",
          "text": [
            "WARNING:tensorflow:Layer lstm_25 will not use cuDNN kernels since it doesn't meet the criteria. It will use a generic GPU kernel as fallback when running on GPU.\n"
          ]
        },
        {
          "output_type": "stream",
          "name": "stdout",
          "text": [
            "[CV] END batch_size=32, dropout=0.1, epochs=1, learning_rate=0.1, units=128; total time=  30.6s\n",
            "194/194 - 28s - loss: 1.3923 - accuracy: 0.5141 - 28s/epoch - 145ms/step\n",
            "97/97 - 2s - loss: 1.5225 - accuracy: 0.3025 - 2s/epoch - 17ms/step\n"
          ]
        },
        {
          "output_type": "stream",
          "name": "stderr",
          "text": [
            "WARNING:tensorflow:Layer lstm_26 will not use cuDNN kernels since it doesn't meet the criteria. It will use a generic GPU kernel as fallback when running on GPU.\n"
          ]
        },
        {
          "output_type": "stream",
          "name": "stdout",
          "text": [
            "[CV] END batch_size=32, dropout=0.1, epochs=1, learning_rate=0.1, units=196; total time=  45.3s\n",
            "194/194 - 27s - loss: 1.2915 - accuracy: 0.5238 - 27s/epoch - 142ms/step\n",
            "97/97 - 1s - loss: 1.3890 - accuracy: 0.5778 - 1s/epoch - 13ms/step\n"
          ]
        },
        {
          "output_type": "stream",
          "name": "stderr",
          "text": [
            "WARNING:tensorflow:Layer lstm_27 will not use cuDNN kernels since it doesn't meet the criteria. It will use a generic GPU kernel as fallback when running on GPU.\n"
          ]
        },
        {
          "output_type": "stream",
          "name": "stdout",
          "text": [
            "[CV] END batch_size=32, dropout=0.1, epochs=1, learning_rate=0.1, units=196; total time=  29.3s\n",
            "194/194 - 28s - loss: 1.5411 - accuracy: 0.5216 - 28s/epoch - 142ms/step\n",
            "97/97 - 2s - loss: 1.5006 - accuracy: 0.5170 - 2s/epoch - 18ms/step\n"
          ]
        },
        {
          "output_type": "stream",
          "name": "stderr",
          "text": [
            "WARNING:tensorflow:Layer lstm_28 will not use cuDNN kernels since it doesn't meet the criteria. It will use a generic GPU kernel as fallback when running on GPU.\n"
          ]
        },
        {
          "output_type": "stream",
          "name": "stdout",
          "text": [
            "[CV] END batch_size=32, dropout=0.1, epochs=1, learning_rate=0.1, units=196; total time=  45.6s\n",
            "194/194 - 28s - loss: 0.8528 - accuracy: 0.6276 - 28s/epoch - 145ms/step\n",
            "97/97 - 1s - loss: 0.7754 - accuracy: 0.6688 - 1s/epoch - 13ms/step\n"
          ]
        },
        {
          "output_type": "stream",
          "name": "stderr",
          "text": [
            "WARNING:tensorflow:Layer lstm_29 will not use cuDNN kernels since it doesn't meet the criteria. It will use a generic GPU kernel as fallback when running on GPU.\n"
          ]
        },
        {
          "output_type": "stream",
          "name": "stdout",
          "text": [
            "[CV] END batch_size=32, dropout=0.2, epochs=1, learning_rate=0.001, units=64; total time=  29.7s\n",
            "194/194 - 29s - loss: 0.8563 - accuracy: 0.6297 - 29s/epoch - 148ms/step\n",
            "97/97 - 1s - loss: 0.7902 - accuracy: 0.6566 - 1s/epoch - 13ms/step\n"
          ]
        },
        {
          "output_type": "stream",
          "name": "stderr",
          "text": [
            "WARNING:tensorflow:Layer lstm_30 will not use cuDNN kernels since it doesn't meet the criteria. It will use a generic GPU kernel as fallback when running on GPU.\n"
          ]
        },
        {
          "output_type": "stream",
          "name": "stdout",
          "text": [
            "[CV] END batch_size=32, dropout=0.2, epochs=1, learning_rate=0.001, units=64; total time=  30.3s\n",
            "194/194 - 28s - loss: 0.8554 - accuracy: 0.6315 - 28s/epoch - 143ms/step\n",
            "97/97 - 1s - loss: 0.7764 - accuracy: 0.6687 - 1s/epoch - 15ms/step\n"
          ]
        },
        {
          "output_type": "stream",
          "name": "stderr",
          "text": [
            "WARNING:tensorflow:Layer lstm_31 will not use cuDNN kernels since it doesn't meet the criteria. It will use a generic GPU kernel as fallback when running on GPU.\n"
          ]
        },
        {
          "output_type": "stream",
          "name": "stdout",
          "text": [
            "[CV] END batch_size=32, dropout=0.2, epochs=1, learning_rate=0.001, units=64; total time=  45.1s\n",
            "194/194 - 30s - loss: 0.8542 - accuracy: 0.6349 - 30s/epoch - 153ms/step\n",
            "97/97 - 1s - loss: 0.7733 - accuracy: 0.6620 - 1s/epoch - 13ms/step\n"
          ]
        },
        {
          "output_type": "stream",
          "name": "stderr",
          "text": [
            "WARNING:tensorflow:Layer lstm_32 will not use cuDNN kernels since it doesn't meet the criteria. It will use a generic GPU kernel as fallback when running on GPU.\n"
          ]
        },
        {
          "output_type": "stream",
          "name": "stdout",
          "text": [
            "[CV] END batch_size=32, dropout=0.2, epochs=1, learning_rate=0.001, units=128; total time=  31.3s\n",
            "194/194 - 28s - loss: 0.8481 - accuracy: 0.6349 - 28s/epoch - 144ms/step\n",
            "97/97 - 1s - loss: 0.7843 - accuracy: 0.6649 - 1s/epoch - 13ms/step\n"
          ]
        },
        {
          "output_type": "stream",
          "name": "stderr",
          "text": [
            "WARNING:tensorflow:Layer lstm_33 will not use cuDNN kernels since it doesn't meet the criteria. It will use a generic GPU kernel as fallback when running on GPU.\n"
          ]
        },
        {
          "output_type": "stream",
          "name": "stdout",
          "text": [
            "[CV] END batch_size=32, dropout=0.2, epochs=1, learning_rate=0.001, units=128; total time=  29.7s\n",
            "194/194 - 28s - loss: 0.8544 - accuracy: 0.6340 - 28s/epoch - 146ms/step\n",
            "97/97 - 1s - loss: 0.7858 - accuracy: 0.6713 - 1s/epoch - 13ms/step\n"
          ]
        },
        {
          "output_type": "stream",
          "name": "stderr",
          "text": [
            "WARNING:tensorflow:Layer lstm_34 will not use cuDNN kernels since it doesn't meet the criteria. It will use a generic GPU kernel as fallback when running on GPU.\n"
          ]
        },
        {
          "output_type": "stream",
          "name": "stdout",
          "text": [
            "[CV] END batch_size=32, dropout=0.2, epochs=1, learning_rate=0.001, units=128; total time=  45.7s\n",
            "194/194 - 29s - loss: 0.8487 - accuracy: 0.6381 - 29s/epoch - 150ms/step\n",
            "97/97 - 2s - loss: 0.7681 - accuracy: 0.6672 - 2s/epoch - 19ms/step\n"
          ]
        },
        {
          "output_type": "stream",
          "name": "stderr",
          "text": [
            "WARNING:tensorflow:Layer lstm_35 will not use cuDNN kernels since it doesn't meet the criteria. It will use a generic GPU kernel as fallback when running on GPU.\n"
          ]
        },
        {
          "output_type": "stream",
          "name": "stdout",
          "text": [
            "[CV] END batch_size=32, dropout=0.2, epochs=1, learning_rate=0.001, units=196; total time=  45.9s\n",
            "194/194 - 29s - loss: 0.8526 - accuracy: 0.6318 - 29s/epoch - 149ms/step\n",
            "97/97 - 2s - loss: 0.8138 - accuracy: 0.6672 - 2s/epoch - 19ms/step\n"
          ]
        },
        {
          "output_type": "stream",
          "name": "stderr",
          "text": [
            "WARNING:tensorflow:Layer lstm_36 will not use cuDNN kernels since it doesn't meet the criteria. It will use a generic GPU kernel as fallback when running on GPU.\n"
          ]
        },
        {
          "output_type": "stream",
          "name": "stdout",
          "text": [
            "[CV] END batch_size=32, dropout=0.2, epochs=1, learning_rate=0.001, units=196; total time=  31.0s\n",
            "194/194 - 28s - loss: 0.8448 - accuracy: 0.6351 - 28s/epoch - 146ms/step\n",
            "97/97 - 1s - loss: 0.7700 - accuracy: 0.6610 - 1s/epoch - 13ms/step\n"
          ]
        },
        {
          "output_type": "stream",
          "name": "stderr",
          "text": [
            "WARNING:tensorflow:Layer lstm_37 will not use cuDNN kernels since it doesn't meet the criteria. It will use a generic GPU kernel as fallback when running on GPU.\n"
          ]
        },
        {
          "output_type": "stream",
          "name": "stdout",
          "text": [
            "[CV] END batch_size=32, dropout=0.2, epochs=1, learning_rate=0.001, units=196; total time=  45.2s\n",
            "194/194 - 30s - loss: 0.8447 - accuracy: 0.6436 - 30s/epoch - 155ms/step\n",
            "97/97 - 1s - loss: 0.7777 - accuracy: 0.6704 - 1s/epoch - 13ms/step\n"
          ]
        },
        {
          "output_type": "stream",
          "name": "stderr",
          "text": [
            "WARNING:tensorflow:Layer lstm_38 will not use cuDNN kernels since it doesn't meet the criteria. It will use a generic GPU kernel as fallback when running on GPU.\n"
          ]
        },
        {
          "output_type": "stream",
          "name": "stdout",
          "text": [
            "[CV] END batch_size=32, dropout=0.2, epochs=1, learning_rate=0.01, units=64; total time=  45.5s\n",
            "194/194 - 30s - loss: 0.8356 - accuracy: 0.6349 - 30s/epoch - 157ms/step\n",
            "97/97 - 2s - loss: 0.7852 - accuracy: 0.6672 - 2s/epoch - 16ms/step\n"
          ]
        },
        {
          "output_type": "stream",
          "name": "stderr",
          "text": [
            "WARNING:tensorflow:Layer lstm_39 will not use cuDNN kernels since it doesn't meet the criteria. It will use a generic GPU kernel as fallback when running on GPU.\n"
          ]
        },
        {
          "output_type": "stream",
          "name": "stdout",
          "text": [
            "[CV] END batch_size=32, dropout=0.2, epochs=1, learning_rate=0.01, units=64; total time=  32.6s\n",
            "194/194 - 29s - loss: 0.8347 - accuracy: 0.6425 - 29s/epoch - 149ms/step\n",
            "97/97 - 1s - loss: 0.8018 - accuracy: 0.6629 - 1s/epoch - 14ms/step\n"
          ]
        },
        {
          "output_type": "stream",
          "name": "stderr",
          "text": [
            "WARNING:tensorflow:Layer lstm_40 will not use cuDNN kernels since it doesn't meet the criteria. It will use a generic GPU kernel as fallback when running on GPU.\n"
          ]
        },
        {
          "output_type": "stream",
          "name": "stdout",
          "text": [
            "[CV] END batch_size=32, dropout=0.2, epochs=1, learning_rate=0.01, units=64; total time=  45.2s\n",
            "194/194 - 29s - loss: 0.8454 - accuracy: 0.6425 - 29s/epoch - 151ms/step\n",
            "97/97 - 1s - loss: 0.7909 - accuracy: 0.6662 - 1s/epoch - 13ms/step\n"
          ]
        },
        {
          "output_type": "stream",
          "name": "stderr",
          "text": [
            "WARNING:tensorflow:Layer lstm_41 will not use cuDNN kernels since it doesn't meet the criteria. It will use a generic GPU kernel as fallback when running on GPU.\n"
          ]
        },
        {
          "output_type": "stream",
          "name": "stdout",
          "text": [
            "[CV] END batch_size=32, dropout=0.2, epochs=1, learning_rate=0.01, units=128; total time=  31.3s\n",
            "194/194 - 29s - loss: 0.8407 - accuracy: 0.6386 - 29s/epoch - 149ms/step\n",
            "97/97 - 2s - loss: 0.7908 - accuracy: 0.6691 - 2s/epoch - 24ms/step\n"
          ]
        },
        {
          "output_type": "stream",
          "name": "stderr",
          "text": [
            "WARNING:tensorflow:Layer lstm_42 will not use cuDNN kernels since it doesn't meet the criteria. It will use a generic GPU kernel as fallback when running on GPU.\n"
          ]
        },
        {
          "output_type": "stream",
          "name": "stdout",
          "text": [
            "[CV] END batch_size=32, dropout=0.2, epochs=1, learning_rate=0.01, units=128; total time=  32.7s\n",
            "194/194 - 29s - loss: 0.8367 - accuracy: 0.6399 - 29s/epoch - 148ms/step\n",
            "97/97 - 1s - loss: 0.8059 - accuracy: 0.6445 - 1s/epoch - 13ms/step\n"
          ]
        },
        {
          "output_type": "stream",
          "name": "stderr",
          "text": [
            "WARNING:tensorflow:Layer lstm_43 will not use cuDNN kernels since it doesn't meet the criteria. It will use a generic GPU kernel as fallback when running on GPU.\n"
          ]
        },
        {
          "output_type": "stream",
          "name": "stdout",
          "text": [
            "[CV] END batch_size=32, dropout=0.2, epochs=1, learning_rate=0.01, units=128; total time=  30.3s\n",
            "194/194 - 29s - loss: 0.9084 - accuracy: 0.6113 - 29s/epoch - 151ms/step\n",
            "97/97 - 1s - loss: 0.8468 - accuracy: 0.6343 - 1s/epoch - 13ms/step\n"
          ]
        },
        {
          "output_type": "stream",
          "name": "stderr",
          "text": [
            "WARNING:tensorflow:Layer lstm_44 will not use cuDNN kernels since it doesn't meet the criteria. It will use a generic GPU kernel as fallback when running on GPU.\n"
          ]
        },
        {
          "output_type": "stream",
          "name": "stdout",
          "text": [
            "[CV] END batch_size=32, dropout=0.2, epochs=1, learning_rate=0.01, units=196; total time=  45.3s\n",
            "194/194 - 28s - loss: 0.8626 - accuracy: 0.6387 - 28s/epoch - 147ms/step\n",
            "97/97 - 2s - loss: 0.8186 - accuracy: 0.6566 - 2s/epoch - 16ms/step\n"
          ]
        },
        {
          "output_type": "stream",
          "name": "stderr",
          "text": [
            "WARNING:tensorflow:Layer lstm_45 will not use cuDNN kernels since it doesn't meet the criteria. It will use a generic GPU kernel as fallback when running on GPU.\n"
          ]
        },
        {
          "output_type": "stream",
          "name": "stdout",
          "text": [
            "[CV] END batch_size=32, dropout=0.2, epochs=1, learning_rate=0.01, units=196; total time=  45.4s\n",
            "194/194 - 30s - loss: 0.8667 - accuracy: 0.6322 - 30s/epoch - 154ms/step\n",
            "97/97 - 1s - loss: 0.7784 - accuracy: 0.6632 - 1s/epoch - 15ms/step\n"
          ]
        },
        {
          "output_type": "stream",
          "name": "stderr",
          "text": [
            "WARNING:tensorflow:Layer lstm_46 will not use cuDNN kernels since it doesn't meet the criteria. It will use a generic GPU kernel as fallback when running on GPU.\n"
          ]
        },
        {
          "output_type": "stream",
          "name": "stdout",
          "text": [
            "[CV] END batch_size=32, dropout=0.2, epochs=1, learning_rate=0.01, units=196; total time=  45.8s\n",
            "194/194 - 29s - loss: 1.0440 - accuracy: 0.5651 - 29s/epoch - 151ms/step\n",
            "97/97 - 1s - loss: 1.0260 - accuracy: 0.5917 - 1s/epoch - 13ms/step\n"
          ]
        },
        {
          "output_type": "stream",
          "name": "stderr",
          "text": [
            "WARNING:tensorflow:Layer lstm_47 will not use cuDNN kernels since it doesn't meet the criteria. It will use a generic GPU kernel as fallback when running on GPU.\n"
          ]
        },
        {
          "output_type": "stream",
          "name": "stdout",
          "text": [
            "[CV] END batch_size=32, dropout=0.2, epochs=1, learning_rate=0.1, units=64; total time=  31.2s\n",
            "194/194 - 29s - loss: 1.0307 - accuracy: 0.5732 - 29s/epoch - 149ms/step\n",
            "97/97 - 2s - loss: 1.0482 - accuracy: 0.5839 - 2s/epoch - 16ms/step\n"
          ]
        },
        {
          "output_type": "stream",
          "name": "stderr",
          "text": [
            "WARNING:tensorflow:Layer lstm_48 will not use cuDNN kernels since it doesn't meet the criteria. It will use a generic GPU kernel as fallback when running on GPU.\n"
          ]
        },
        {
          "output_type": "stream",
          "name": "stdout",
          "text": [
            "[CV] END batch_size=32, dropout=0.2, epochs=1, learning_rate=0.1, units=64; total time=  30.8s\n",
            "194/194 - 30s - loss: 1.0155 - accuracy: 0.5712 - 30s/epoch - 155ms/step\n",
            "97/97 - 1s - loss: 0.9524 - accuracy: 0.6003 - 1s/epoch - 13ms/step\n"
          ]
        },
        {
          "output_type": "stream",
          "name": "stderr",
          "text": [
            "WARNING:tensorflow:Layer lstm_49 will not use cuDNN kernels since it doesn't meet the criteria. It will use a generic GPU kernel as fallback when running on GPU.\n"
          ]
        },
        {
          "output_type": "stream",
          "name": "stdout",
          "text": [
            "[CV] END batch_size=32, dropout=0.2, epochs=1, learning_rate=0.1, units=64; total time=  46.3s\n",
            "194/194 - 30s - loss: 1.1464 - accuracy: 0.5483 - 30s/epoch - 155ms/step\n",
            "97/97 - 1s - loss: 1.0891 - accuracy: 0.5775 - 1s/epoch - 14ms/step\n",
            "[CV] END batch_size=32, dropout=0.2, epochs=1, learning_rate=0.1, units=128; total time=  31.9s\n"
          ]
        },
        {
          "output_type": "stream",
          "name": "stderr",
          "text": [
            "WARNING:tensorflow:Layer lstm_50 will not use cuDNN kernels since it doesn't meet the criteria. It will use a generic GPU kernel as fallback when running on GPU.\n"
          ]
        },
        {
          "output_type": "stream",
          "name": "stdout",
          "text": [
            "194/194 - 29s - loss: 1.1622 - accuracy: 0.5537 - 29s/epoch - 148ms/step\n",
            "97/97 - 1s - loss: 1.0879 - accuracy: 0.5678 - 1s/epoch - 14ms/step\n"
          ]
        },
        {
          "output_type": "stream",
          "name": "stderr",
          "text": [
            "WARNING:tensorflow:Layer lstm_51 will not use cuDNN kernels since it doesn't meet the criteria. It will use a generic GPU kernel as fallback when running on GPU.\n"
          ]
        },
        {
          "output_type": "stream",
          "name": "stdout",
          "text": [
            "[CV] END batch_size=32, dropout=0.2, epochs=1, learning_rate=0.1, units=128; total time=  30.5s\n",
            "194/194 - 29s - loss: 1.1822 - accuracy: 0.5376 - 29s/epoch - 151ms/step\n",
            "97/97 - 1s - loss: 1.0761 - accuracy: 0.5909 - 1s/epoch - 14ms/step\n"
          ]
        },
        {
          "output_type": "stream",
          "name": "stderr",
          "text": [
            "WARNING:tensorflow:Layer lstm_52 will not use cuDNN kernels since it doesn't meet the criteria. It will use a generic GPU kernel as fallback when running on GPU.\n"
          ]
        },
        {
          "output_type": "stream",
          "name": "stdout",
          "text": [
            "[CV] END batch_size=32, dropout=0.2, epochs=1, learning_rate=0.1, units=128; total time=  30.8s\n",
            "194/194 - 29s - loss: 1.8705 - accuracy: 0.4941 - 29s/epoch - 150ms/step\n",
            "97/97 - 1s - loss: 1.2683 - accuracy: 0.5342 - 1s/epoch - 13ms/step\n"
          ]
        },
        {
          "output_type": "stream",
          "name": "stderr",
          "text": [
            "WARNING:tensorflow:Layer lstm_53 will not use cuDNN kernels since it doesn't meet the criteria. It will use a generic GPU kernel as fallback when running on GPU.\n"
          ]
        },
        {
          "output_type": "stream",
          "name": "stdout",
          "text": [
            "[CV] END batch_size=32, dropout=0.2, epochs=1, learning_rate=0.1, units=196; total time=  45.9s\n",
            "194/194 - 28s - loss: 1.2712 - accuracy: 0.5222 - 28s/epoch - 147ms/step\n",
            "97/97 - 1s - loss: 1.2002 - accuracy: 0.5833 - 1s/epoch - 13ms/step\n"
          ]
        },
        {
          "output_type": "stream",
          "name": "stderr",
          "text": [
            "WARNING:tensorflow:Layer lstm_54 will not use cuDNN kernels since it doesn't meet the criteria. It will use a generic GPU kernel as fallback when running on GPU.\n"
          ]
        },
        {
          "output_type": "stream",
          "name": "stdout",
          "text": [
            "[CV] END batch_size=32, dropout=0.2, epochs=1, learning_rate=0.1, units=196; total time=  30.3s\n",
            "194/194 - 30s - loss: 1.3183 - accuracy: 0.5168 - 30s/epoch - 154ms/step\n",
            "97/97 - 1s - loss: 1.2268 - accuracy: 0.5457 - 1s/epoch - 13ms/step\n"
          ]
        },
        {
          "output_type": "stream",
          "name": "stderr",
          "text": [
            "WARNING:tensorflow:Layer lstm_55 will not use cuDNN kernels since it doesn't meet the criteria. It will use a generic GPU kernel as fallback when running on GPU.\n"
          ]
        },
        {
          "output_type": "stream",
          "name": "stdout",
          "text": [
            "[CV] END batch_size=32, dropout=0.2, epochs=1, learning_rate=0.1, units=196; total time=  31.8s\n",
            "194/194 - 29s - loss: 0.8554 - accuracy: 0.6292 - 29s/epoch - 151ms/step\n",
            "97/97 - 2s - loss: 0.7722 - accuracy: 0.6549 - 2s/epoch - 19ms/step\n"
          ]
        },
        {
          "output_type": "stream",
          "name": "stderr",
          "text": [
            "WARNING:tensorflow:Layer lstm_56 will not use cuDNN kernels since it doesn't meet the criteria. It will use a generic GPU kernel as fallback when running on GPU.\n"
          ]
        },
        {
          "output_type": "stream",
          "name": "stdout",
          "text": [
            "[CV] END batch_size=32, dropout=0.3, epochs=1, learning_rate=0.001, units=64; total time=  46.2s\n",
            "194/194 - 29s - loss: 0.8567 - accuracy: 0.6341 - 29s/epoch - 151ms/step\n",
            "97/97 - 1s - loss: 0.7891 - accuracy: 0.6620 - 1s/epoch - 13ms/step\n"
          ]
        },
        {
          "output_type": "stream",
          "name": "stderr",
          "text": [
            "WARNING:tensorflow:Layer lstm_57 will not use cuDNN kernels since it doesn't meet the criteria. It will use a generic GPU kernel as fallback when running on GPU.\n"
          ]
        },
        {
          "output_type": "stream",
          "name": "stdout",
          "text": [
            "[CV] END batch_size=32, dropout=0.3, epochs=1, learning_rate=0.001, units=64; total time=  45.0s\n",
            "194/194 - 30s - loss: 0.8548 - accuracy: 0.6320 - 30s/epoch - 154ms/step\n",
            "97/97 - 1s - loss: 0.7745 - accuracy: 0.6665 - 1s/epoch - 13ms/step\n"
          ]
        },
        {
          "output_type": "stream",
          "name": "stderr",
          "text": [
            "WARNING:tensorflow:Layer lstm_58 will not use cuDNN kernels since it doesn't meet the criteria. It will use a generic GPU kernel as fallback when running on GPU.\n"
          ]
        },
        {
          "output_type": "stream",
          "name": "stdout",
          "text": [
            "[CV] END batch_size=32, dropout=0.3, epochs=1, learning_rate=0.001, units=64; total time=  46.0s\n",
            "194/194 - 31s - loss: 0.8573 - accuracy: 0.6279 - 31s/epoch - 160ms/step\n",
            "97/97 - 1s - loss: 0.7725 - accuracy: 0.6659 - 1s/epoch - 14ms/step\n"
          ]
        },
        {
          "output_type": "stream",
          "name": "stderr",
          "text": [
            "WARNING:tensorflow:Layer lstm_59 will not use cuDNN kernels since it doesn't meet the criteria. It will use a generic GPU kernel as fallback when running on GPU.\n"
          ]
        },
        {
          "output_type": "stream",
          "name": "stdout",
          "text": [
            "[CV] END batch_size=32, dropout=0.3, epochs=1, learning_rate=0.001, units=128; total time=  45.9s\n",
            "194/194 - 29s - loss: 0.8580 - accuracy: 0.6326 - 29s/epoch - 149ms/step\n",
            "97/97 - 1s - loss: 0.7899 - accuracy: 0.6653 - 1s/epoch - 13ms/step\n"
          ]
        },
        {
          "output_type": "stream",
          "name": "stderr",
          "text": [
            "WARNING:tensorflow:Layer lstm_60 will not use cuDNN kernels since it doesn't meet the criteria. It will use a generic GPU kernel as fallback when running on GPU.\n"
          ]
        },
        {
          "output_type": "stream",
          "name": "stdout",
          "text": [
            "[CV] END batch_size=32, dropout=0.3, epochs=1, learning_rate=0.001, units=128; total time=  45.0s\n",
            "194/194 - 29s - loss: 0.8481 - accuracy: 0.6348 - 29s/epoch - 147ms/step\n",
            "97/97 - 1s - loss: 0.7770 - accuracy: 0.6726 - 1s/epoch - 15ms/step\n"
          ]
        },
        {
          "output_type": "stream",
          "name": "stderr",
          "text": [
            "WARNING:tensorflow:Layer lstm_61 will not use cuDNN kernels since it doesn't meet the criteria. It will use a generic GPU kernel as fallback when running on GPU.\n"
          ]
        },
        {
          "output_type": "stream",
          "name": "stdout",
          "text": [
            "[CV] END batch_size=32, dropout=0.3, epochs=1, learning_rate=0.001, units=128; total time=  45.2s\n",
            "194/194 - 29s - loss: 0.8510 - accuracy: 0.6323 - 29s/epoch - 150ms/step\n",
            "97/97 - 1s - loss: 0.7696 - accuracy: 0.6572 - 1s/epoch - 13ms/step\n"
          ]
        },
        {
          "output_type": "stream",
          "name": "stderr",
          "text": [
            "WARNING:tensorflow:Layer lstm_62 will not use cuDNN kernels since it doesn't meet the criteria. It will use a generic GPU kernel as fallback when running on GPU.\n"
          ]
        },
        {
          "output_type": "stream",
          "name": "stdout",
          "text": [
            "[CV] END batch_size=32, dropout=0.3, epochs=1, learning_rate=0.001, units=196; total time=  31.1s\n",
            "194/194 - 30s - loss: 0.8472 - accuracy: 0.6339 - 30s/epoch - 153ms/step\n",
            "97/97 - 1s - loss: 0.7825 - accuracy: 0.6688 - 1s/epoch - 13ms/step\n"
          ]
        },
        {
          "output_type": "stream",
          "name": "stderr",
          "text": [
            "WARNING:tensorflow:Layer lstm_63 will not use cuDNN kernels since it doesn't meet the criteria. It will use a generic GPU kernel as fallback when running on GPU.\n"
          ]
        },
        {
          "output_type": "stream",
          "name": "stdout",
          "text": [
            "[CV] END batch_size=32, dropout=0.3, epochs=1, learning_rate=0.001, units=196; total time=  45.9s\n",
            "194/194 - 29s - loss: 0.8605 - accuracy: 0.6285 - 29s/epoch - 148ms/step\n",
            "97/97 - 2s - loss: 0.7809 - accuracy: 0.6606 - 2s/epoch - 16ms/step\n"
          ]
        },
        {
          "output_type": "stream",
          "name": "stderr",
          "text": [
            "WARNING:tensorflow:Layer lstm_64 will not use cuDNN kernels since it doesn't meet the criteria. It will use a generic GPU kernel as fallback when running on GPU.\n"
          ]
        },
        {
          "output_type": "stream",
          "name": "stdout",
          "text": [
            "[CV] END batch_size=32, dropout=0.3, epochs=1, learning_rate=0.001, units=196; total time=  45.5s\n",
            "194/194 - 29s - loss: 0.8362 - accuracy: 0.6473 - 29s/epoch - 150ms/step\n",
            "97/97 - 1s - loss: 0.7503 - accuracy: 0.6843 - 1s/epoch - 13ms/step\n"
          ]
        },
        {
          "output_type": "stream",
          "name": "stderr",
          "text": [
            "WARNING:tensorflow:Layer lstm_65 will not use cuDNN kernels since it doesn't meet the criteria. It will use a generic GPU kernel as fallback when running on GPU.\n"
          ]
        },
        {
          "output_type": "stream",
          "name": "stdout",
          "text": [
            "[CV] END batch_size=32, dropout=0.3, epochs=1, learning_rate=0.01, units=64; total time=  31.0s\n",
            "194/194 - 31s - loss: 0.8282 - accuracy: 0.6476 - 31s/epoch - 158ms/step\n",
            "97/97 - 1s - loss: 0.8127 - accuracy: 0.6624 - 1s/epoch - 14ms/step\n"
          ]
        },
        {
          "output_type": "stream",
          "name": "stderr",
          "text": [
            "WARNING:tensorflow:Layer lstm_66 will not use cuDNN kernels since it doesn't meet the criteria. It will use a generic GPU kernel as fallback when running on GPU.\n"
          ]
        },
        {
          "output_type": "stream",
          "name": "stdout",
          "text": [
            "[CV] END batch_size=32, dropout=0.3, epochs=1, learning_rate=0.01, units=64; total time=  32.6s\n",
            "194/194 - 29s - loss: 0.8299 - accuracy: 0.6453 - 29s/epoch - 149ms/step\n",
            "97/97 - 1s - loss: 0.7879 - accuracy: 0.6658 - 1s/epoch - 13ms/step\n"
          ]
        },
        {
          "output_type": "stream",
          "name": "stderr",
          "text": [
            "WARNING:tensorflow:Layer lstm_67 will not use cuDNN kernels since it doesn't meet the criteria. It will use a generic GPU kernel as fallback when running on GPU.\n"
          ]
        },
        {
          "output_type": "stream",
          "name": "stdout",
          "text": [
            "[CV] END batch_size=32, dropout=0.3, epochs=1, learning_rate=0.01, units=64; total time=  30.4s\n",
            "194/194 - 30s - loss: 0.8507 - accuracy: 0.6342 - 30s/epoch - 154ms/step\n",
            "97/97 - 1s - loss: 0.7660 - accuracy: 0.6708 - 1s/epoch - 13ms/step\n"
          ]
        },
        {
          "output_type": "stream",
          "name": "stderr",
          "text": [
            "WARNING:tensorflow:Layer lstm_68 will not use cuDNN kernels since it doesn't meet the criteria. It will use a generic GPU kernel as fallback when running on GPU.\n"
          ]
        },
        {
          "output_type": "stream",
          "name": "stdout",
          "text": [
            "[CV] END batch_size=32, dropout=0.3, epochs=1, learning_rate=0.01, units=128; total time=  45.6s\n",
            "194/194 - 28s - loss: 0.8464 - accuracy: 0.6381 - 28s/epoch - 147ms/step\n",
            "97/97 - 1s - loss: 0.8032 - accuracy: 0.6582 - 1s/epoch - 13ms/step\n"
          ]
        },
        {
          "output_type": "stream",
          "name": "stderr",
          "text": [
            "WARNING:tensorflow:Layer lstm_69 will not use cuDNN kernels since it doesn't meet the criteria. It will use a generic GPU kernel as fallback when running on GPU.\n"
          ]
        },
        {
          "output_type": "stream",
          "name": "stdout",
          "text": [
            "[CV] END batch_size=32, dropout=0.3, epochs=1, learning_rate=0.01, units=128; total time=  45.2s\n",
            "194/194 - 30s - loss: 0.8450 - accuracy: 0.6390 - 30s/epoch - 155ms/step\n",
            "97/97 - 2s - loss: 0.7939 - accuracy: 0.6484 - 2s/epoch - 16ms/step\n"
          ]
        },
        {
          "output_type": "stream",
          "name": "stderr",
          "text": [
            "WARNING:tensorflow:Layer lstm_70 will not use cuDNN kernels since it doesn't meet the criteria. It will use a generic GPU kernel as fallback when running on GPU.\n"
          ]
        },
        {
          "output_type": "stream",
          "name": "stdout",
          "text": [
            "[CV] END batch_size=32, dropout=0.3, epochs=1, learning_rate=0.01, units=128; total time=  32.0s\n",
            "194/194 - 29s - loss: 0.9263 - accuracy: 0.6053 - 29s/epoch - 148ms/step\n",
            "97/97 - 1s - loss: 0.8955 - accuracy: 0.6340 - 1s/epoch - 14ms/step\n"
          ]
        },
        {
          "output_type": "stream",
          "name": "stderr",
          "text": [
            "WARNING:tensorflow:Layer lstm_71 will not use cuDNN kernels since it doesn't meet the criteria. It will use a generic GPU kernel as fallback when running on GPU.\n"
          ]
        },
        {
          "output_type": "stream",
          "name": "stdout",
          "text": [
            "[CV] END batch_size=32, dropout=0.3, epochs=1, learning_rate=0.01, units=196; total time=  30.4s\n",
            "194/194 - 29s - loss: 0.8646 - accuracy: 0.6318 - 29s/epoch - 149ms/step\n",
            "97/97 - 1s - loss: 0.7806 - accuracy: 0.6685 - 1s/epoch - 13ms/step\n"
          ]
        },
        {
          "output_type": "stream",
          "name": "stderr",
          "text": [
            "WARNING:tensorflow:Layer lstm_72 will not use cuDNN kernels since it doesn't meet the criteria. It will use a generic GPU kernel as fallback when running on GPU.\n"
          ]
        },
        {
          "output_type": "stream",
          "name": "stdout",
          "text": [
            "[CV] END batch_size=32, dropout=0.3, epochs=1, learning_rate=0.01, units=196; total time=  45.3s\n",
            "194/194 - 30s - loss: 0.8505 - accuracy: 0.6298 - 30s/epoch - 156ms/step\n",
            "97/97 - 2s - loss: 0.7818 - accuracy: 0.6671 - 2s/epoch - 19ms/step\n"
          ]
        },
        {
          "output_type": "stream",
          "name": "stderr",
          "text": [
            "WARNING:tensorflow:Layer lstm_73 will not use cuDNN kernels since it doesn't meet the criteria. It will use a generic GPU kernel as fallback when running on GPU.\n"
          ]
        },
        {
          "output_type": "stream",
          "name": "stdout",
          "text": [
            "[CV] END batch_size=32, dropout=0.3, epochs=1, learning_rate=0.01, units=196; total time=  46.2s\n",
            "194/194 - 29s - loss: 1.0667 - accuracy: 0.5701 - 29s/epoch - 149ms/step\n",
            "97/97 - 1s - loss: 0.9648 - accuracy: 0.6059 - 1s/epoch - 13ms/step\n"
          ]
        },
        {
          "output_type": "stream",
          "name": "stderr",
          "text": [
            "WARNING:tensorflow:Layer lstm_74 will not use cuDNN kernels since it doesn't meet the criteria. It will use a generic GPU kernel as fallback when running on GPU.\n"
          ]
        },
        {
          "output_type": "stream",
          "name": "stdout",
          "text": [
            "[CV] END batch_size=32, dropout=0.3, epochs=1, learning_rate=0.1, units=64; total time=  30.7s\n",
            "194/194 - 31s - loss: 1.0442 - accuracy: 0.5624 - 31s/epoch - 159ms/step\n",
            "97/97 - 1s - loss: 1.1071 - accuracy: 0.4661 - 1s/epoch - 14ms/step\n"
          ]
        },
        {
          "output_type": "stream",
          "name": "stderr",
          "text": [
            "WARNING:tensorflow:Layer lstm_75 will not use cuDNN kernels since it doesn't meet the criteria. It will use a generic GPU kernel as fallback when running on GPU.\n"
          ]
        },
        {
          "output_type": "stream",
          "name": "stdout",
          "text": [
            "[CV] END batch_size=32, dropout=0.3, epochs=1, learning_rate=0.1, units=64; total time=  45.2s\n",
            "194/194 - 29s - loss: 1.0477 - accuracy: 0.5633 - 29s/epoch - 151ms/step\n",
            "97/97 - 2s - loss: 1.0241 - accuracy: 0.5919 - 2s/epoch - 25ms/step\n"
          ]
        },
        {
          "output_type": "stream",
          "name": "stderr",
          "text": [
            "WARNING:tensorflow:Layer lstm_76 will not use cuDNN kernels since it doesn't meet the criteria. It will use a generic GPU kernel as fallback when running on GPU.\n"
          ]
        },
        {
          "output_type": "stream",
          "name": "stdout",
          "text": [
            "[CV] END batch_size=32, dropout=0.3, epochs=1, learning_rate=0.1, units=64; total time=  46.2s\n",
            "194/194 - 30s - loss: 1.1508 - accuracy: 0.5346 - 30s/epoch - 153ms/step\n",
            "97/97 - 1s - loss: 1.0822 - accuracy: 0.5578 - 1s/epoch - 14ms/step\n"
          ]
        },
        {
          "output_type": "stream",
          "name": "stderr",
          "text": [
            "WARNING:tensorflow:Layer lstm_77 will not use cuDNN kernels since it doesn't meet the criteria. It will use a generic GPU kernel as fallback when running on GPU.\n"
          ]
        },
        {
          "output_type": "stream",
          "name": "stdout",
          "text": [
            "[CV] END batch_size=32, dropout=0.3, epochs=1, learning_rate=0.1, units=128; total time=  45.2s\n",
            "194/194 - 30s - loss: 1.1584 - accuracy: 0.5322 - 30s/epoch - 153ms/step\n",
            "97/97 - 1s - loss: 1.1072 - accuracy: 0.5617 - 1s/epoch - 13ms/step\n"
          ]
        },
        {
          "output_type": "stream",
          "name": "stderr",
          "text": [
            "WARNING:tensorflow:Layer lstm_78 will not use cuDNN kernels since it doesn't meet the criteria. It will use a generic GPU kernel as fallback when running on GPU.\n"
          ]
        },
        {
          "output_type": "stream",
          "name": "stdout",
          "text": [
            "[CV] END batch_size=32, dropout=0.3, epochs=1, learning_rate=0.1, units=128; total time=  31.2s\n",
            "194/194 - 29s - loss: 1.2358 - accuracy: 0.5207 - 29s/epoch - 151ms/step\n",
            "97/97 - 1s - loss: 1.3183 - accuracy: 0.5780 - 1s/epoch - 13ms/step\n"
          ]
        },
        {
          "output_type": "stream",
          "name": "stderr",
          "text": [
            "WARNING:tensorflow:Layer lstm_79 will not use cuDNN kernels since it doesn't meet the criteria. It will use a generic GPU kernel as fallback when running on GPU.\n"
          ]
        },
        {
          "output_type": "stream",
          "name": "stdout",
          "text": [
            "[CV] END batch_size=32, dropout=0.3, epochs=1, learning_rate=0.1, units=128; total time=  31.1s\n",
            "194/194 - 31s - loss: 1.7316 - accuracy: 0.4975 - 31s/epoch - 157ms/step\n",
            "97/97 - 1s - loss: 1.2731 - accuracy: 0.5371 - 1s/epoch - 13ms/step\n"
          ]
        },
        {
          "output_type": "stream",
          "name": "stderr",
          "text": [
            "WARNING:tensorflow:Layer lstm_80 will not use cuDNN kernels since it doesn't meet the criteria. It will use a generic GPU kernel as fallback when running on GPU.\n"
          ]
        },
        {
          "output_type": "stream",
          "name": "stdout",
          "text": [
            "[CV] END batch_size=32, dropout=0.3, epochs=1, learning_rate=0.1, units=196; total time=  46.6s\n",
            "194/194 - 30s - loss: 1.8211 - accuracy: 0.5020 - 30s/epoch - 153ms/step\n",
            "97/97 - 1s - loss: 1.3079 - accuracy: 0.4374 - 1s/epoch - 13ms/step\n"
          ]
        },
        {
          "output_type": "stream",
          "name": "stderr",
          "text": [
            "WARNING:tensorflow:Layer lstm_81 will not use cuDNN kernels since it doesn't meet the criteria. It will use a generic GPU kernel as fallback when running on GPU.\n"
          ]
        },
        {
          "output_type": "stream",
          "name": "stdout",
          "text": [
            "[CV] END batch_size=32, dropout=0.3, epochs=1, learning_rate=0.1, units=196; total time=  31.5s\n",
            "194/194 - 29s - loss: 1.4221 - accuracy: 0.5121 - 29s/epoch - 148ms/step\n",
            "97/97 - 2s - loss: 1.2854 - accuracy: 0.5347 - 2s/epoch - 16ms/step\n"
          ]
        },
        {
          "output_type": "stream",
          "name": "stderr",
          "text": [
            "WARNING:tensorflow:Layer lstm_82 will not use cuDNN kernels since it doesn't meet the criteria. It will use a generic GPU kernel as fallback when running on GPU.\n"
          ]
        },
        {
          "output_type": "stream",
          "name": "stdout",
          "text": [
            "[CV] END batch_size=32, dropout=0.3, epochs=1, learning_rate=0.1, units=196; total time=  45.4s\n",
            "291/291 - 43s - loss: 0.8174 - accuracy: 0.6496 - 43s/epoch - 149ms/step\n",
            "Best: 0.670827 using {'batch_size': 32, 'dropout': 0.3, 'epochs': 1, 'learning_rate': 0.01, 'units': 64}\n"
          ]
        }
      ]
    }
  ]
}